{
 "cells": [
  {
   "cell_type": "code",
   "execution_count": 2,
   "metadata": {
    "id": "YhFe3CJGAIiV",
    "ExecuteTime": {
     "end_time": "2023-11-02T18:08:56.376563900Z",
     "start_time": "2023-11-02T18:08:56.369562300Z"
    }
   },
   "outputs": [
    {
     "name": "stdout",
     "output_type": "stream",
     "text": [
      "C:\\Users\\Administrator\\Desktop\\Wav2Lip-GFPGAN\n"
     ]
    }
   ],
   "source": [
    "# !git clone https://github.com/ajay-sainy/Wav2Lip-GFPGAN.git\n",
    "# basePath = \"/content/Wav2Lip-GFPGAN\"\n",
    "basePath = \"C:/Users/Administrator/Desktop/Wav2Lip-GFPGAN\"\n",
    "%cd {basePath}\n"
   ]
  },
  {
   "cell_type": "code",
   "execution_count": 3,
   "metadata": {
    "id": "mH7A_OaFUs8U",
    "ExecuteTime": {
     "end_time": "2023-11-02T18:08:56.434300700Z",
     "start_time": "2023-11-02T18:08:56.374562400Z"
    }
   },
   "outputs": [],
   "source": [
    "wav2lipFolderName = 'Wav2Lip-master'\n",
    "gfpganFolderName = 'GFPGAN-master'\n",
    "wav2lipPath = basePath + '/' + wav2lipFolderName\n",
    "gfpganPath = basePath + '/' + gfpganFolderName\n",
    "\n",
    "# !wget 'https://www.adrianbulat.com/downloads/python-fan/s3fd-619a316812.pth' -O {wav2lipPath}'/face_detection/detection/sfd/s3fd.pth'\n",
    "# !gdown https://drive.google.com/uc?id=1fQtBSYEyuai9MjBOF8j7zZ4oQ9W2N64q --output {wav2lipPath}'/checkpoints/'\n"
   ]
  },
  {
   "cell_type": "code",
   "execution_count": 4,
   "metadata": {
    "id": "CAJqWQS17Qk1",
    "ExecuteTime": {
     "end_time": "2023-11-02T18:09:00.173397700Z",
     "start_time": "2023-11-02T18:08:56.390262500Z"
    }
   },
   "outputs": [
    {
     "name": "stdout",
     "output_type": "stream",
     "text": [
      "Looking in indexes: https://mirrors.aliyun.com/pypi/simple\n",
      "Requirement already satisfied: librosa==0.10.0 in c:\\miniconda3\\envs\\szr310\\lib\\site-packages (from -r requirements.txt (line 1)) (0.10.0)\n",
      "Requirement already satisfied: numpy<1.24.1 in c:\\miniconda3\\envs\\szr310\\lib\\site-packages (from -r requirements.txt (line 2)) (1.23.5)\n",
      "Requirement already satisfied: opencv-contrib-python>=4.2.0.34 in c:\\miniconda3\\envs\\szr310\\lib\\site-packages (from -r requirements.txt (line 3)) (4.8.1.78)\n",
      "Requirement already satisfied: opencv-python==4.7.0.72 in c:\\miniconda3\\envs\\szr310\\lib\\site-packages (from -r requirements.txt (line 4)) (4.7.0.72)\n",
      "Requirement already satisfied: torch>=1.7 in c:\\miniconda3\\envs\\szr310\\lib\\site-packages (from -r requirements.txt (line 5)) (2.1.0)\n",
      "Requirement already satisfied: torchvision>=>=0.8.2 in c:\\miniconda3\\envs\\szr310\\lib\\site-packages (from -r requirements.txt (line 6)) (0.16.0)\n",
      "Requirement already satisfied: tqdm==4.48 in c:\\miniconda3\\envs\\szr310\\lib\\site-packages (from -r requirements.txt (line 7)) (4.48.0)\n",
      "Requirement already satisfied: numba==0.56.4 in c:\\miniconda3\\envs\\szr310\\lib\\site-packages (from -r requirements.txt (line 8)) (0.56.4)\n",
      "Requirement already satisfied: basicsr>=1.3.4.0 in c:\\miniconda3\\envs\\szr310\\lib\\site-packages (from -r requirements.txt (line 10)) (1.4.2)\n",
      "Requirement already satisfied: facexlib>=0.2.3 in c:\\miniconda3\\envs\\szr310\\lib\\site-packages (from -r requirements.txt (line 11)) (0.3.0)\n",
      "Requirement already satisfied: lmdb in c:\\miniconda3\\envs\\szr310\\lib\\site-packages (from -r requirements.txt (line 12)) (1.4.1)\n",
      "Requirement already satisfied: pyyaml in c:\\miniconda3\\envs\\szr310\\lib\\site-packages (from -r requirements.txt (line 13)) (6.0.1)\n",
      "Requirement already satisfied: scipy in c:\\miniconda3\\envs\\szr310\\lib\\site-packages (from -r requirements.txt (line 14)) (1.11.3)\n",
      "Requirement already satisfied: tb-nightly in c:\\miniconda3\\envs\\szr310\\lib\\site-packages (from -r requirements.txt (line 15)) (2.16.0a20231024)\n",
      "Requirement already satisfied: yapf in c:\\miniconda3\\envs\\szr310\\lib\\site-packages (from -r requirements.txt (line 16)) (0.40.2)\n",
      "Requirement already satisfied: realesrgan in c:\\miniconda3\\envs\\szr310\\lib\\site-packages (from -r requirements.txt (line 17)) (0.3.0)\n",
      "Requirement already satisfied: ffmpeg in c:\\miniconda3\\envs\\szr310\\lib\\site-packages (from -r requirements.txt (line 19)) (1.4)\n",
      "Requirement already satisfied: audioread>=2.1.9 in c:\\miniconda3\\envs\\szr310\\lib\\site-packages (from librosa==0.10.0->-r requirements.txt (line 1)) (3.0.1)\n",
      "Requirement already satisfied: scikit-learn>=0.20.0 in c:\\miniconda3\\envs\\szr310\\lib\\site-packages (from librosa==0.10.0->-r requirements.txt (line 1)) (1.3.2)\n",
      "Requirement already satisfied: joblib>=0.14 in c:\\miniconda3\\envs\\szr310\\lib\\site-packages (from librosa==0.10.0->-r requirements.txt (line 1)) (1.3.2)\n",
      "Requirement already satisfied: decorator>=4.3.0 in c:\\miniconda3\\envs\\szr310\\lib\\site-packages (from librosa==0.10.0->-r requirements.txt (line 1)) (5.1.1)\n",
      "Requirement already satisfied: soundfile>=0.12.1 in c:\\miniconda3\\envs\\szr310\\lib\\site-packages (from librosa==0.10.0->-r requirements.txt (line 1)) (0.12.1)\n",
      "Requirement already satisfied: pooch>=1.0 in c:\\miniconda3\\envs\\szr310\\lib\\site-packages (from librosa==0.10.0->-r requirements.txt (line 1)) (1.8.0)\n",
      "Requirement already satisfied: soxr>=0.3.2 in c:\\miniconda3\\envs\\szr310\\lib\\site-packages (from librosa==0.10.0->-r requirements.txt (line 1)) (0.3.7)\n",
      "Requirement already satisfied: typing-extensions>=4.1.1 in c:\\miniconda3\\envs\\szr310\\lib\\site-packages (from librosa==0.10.0->-r requirements.txt (line 1)) (4.7.1)\n",
      "Requirement already satisfied: lazy-loader>=0.1 in c:\\miniconda3\\envs\\szr310\\lib\\site-packages (from librosa==0.10.0->-r requirements.txt (line 1)) (0.3)\n",
      "Requirement already satisfied: msgpack>=1.0 in c:\\miniconda3\\envs\\szr310\\lib\\site-packages (from librosa==0.10.0->-r requirements.txt (line 1)) (1.0.7)\n",
      "Requirement already satisfied: llvmlite<0.40,>=0.39.0dev0 in c:\\miniconda3\\envs\\szr310\\lib\\site-packages (from numba==0.56.4->-r requirements.txt (line 8)) (0.39.1)\n",
      "Requirement already satisfied: setuptools in c:\\miniconda3\\envs\\szr310\\lib\\site-packages (from numba==0.56.4->-r requirements.txt (line 8)) (68.0.0)\n",
      "Requirement already satisfied: filelock in c:\\miniconda3\\envs\\szr310\\lib\\site-packages (from torch>=1.7->-r requirements.txt (line 5)) (3.12.4)\n",
      "Requirement already satisfied: sympy in c:\\miniconda3\\envs\\szr310\\lib\\site-packages (from torch>=1.7->-r requirements.txt (line 5)) (1.12)\n",
      "Requirement already satisfied: networkx in c:\\miniconda3\\envs\\szr310\\lib\\site-packages (from torch>=1.7->-r requirements.txt (line 5)) (3.2)\n",
      "Requirement already satisfied: jinja2 in c:\\miniconda3\\envs\\szr310\\lib\\site-packages (from torch>=1.7->-r requirements.txt (line 5)) (3.1.2)\n",
      "Requirement already satisfied: fsspec in c:\\miniconda3\\envs\\szr310\\lib\\site-packages (from torch>=1.7->-r requirements.txt (line 5)) (2023.10.0)\n",
      "Requirement already satisfied: requests in c:\\miniconda3\\envs\\szr310\\lib\\site-packages (from torchvision>=>=0.8.2->-r requirements.txt (line 6)) (2.31.0)\n",
      "Requirement already satisfied: pillow!=8.3.*,>=5.3.0 in c:\\miniconda3\\envs\\szr310\\lib\\site-packages (from torchvision>=>=0.8.2->-r requirements.txt (line 6)) (10.0.1)\n",
      "Requirement already satisfied: addict in c:\\miniconda3\\envs\\szr310\\lib\\site-packages (from basicsr>=1.3.4.0->-r requirements.txt (line 10)) (2.4.0)\n",
      "Requirement already satisfied: future in c:\\miniconda3\\envs\\szr310\\lib\\site-packages (from basicsr>=1.3.4.0->-r requirements.txt (line 10)) (0.18.3)\n",
      "Requirement already satisfied: scikit-image in c:\\miniconda3\\envs\\szr310\\lib\\site-packages (from basicsr>=1.3.4.0->-r requirements.txt (line 10)) (0.22.0)\n",
      "Requirement already satisfied: filterpy in c:\\miniconda3\\envs\\szr310\\lib\\site-packages (from facexlib>=0.2.3->-r requirements.txt (line 11)) (1.4.5)\n",
      "Requirement already satisfied: absl-py>=0.4 in c:\\miniconda3\\envs\\szr310\\lib\\site-packages (from tb-nightly->-r requirements.txt (line 15)) (2.0.0)\n",
      "Requirement already satisfied: grpcio>=1.48.2 in c:\\miniconda3\\envs\\szr310\\lib\\site-packages (from tb-nightly->-r requirements.txt (line 15)) (1.59.0)\n",
      "Requirement already satisfied: google-auth<3,>=1.6.3 in c:\\miniconda3\\envs\\szr310\\lib\\site-packages (from tb-nightly->-r requirements.txt (line 15)) (2.23.3)\n",
      "Requirement already satisfied: google-auth-oauthlib<2,>=0.5 in c:\\miniconda3\\envs\\szr310\\lib\\site-packages (from tb-nightly->-r requirements.txt (line 15)) (1.1.0)\n",
      "Requirement already satisfied: markdown>=2.6.8 in c:\\miniconda3\\envs\\szr310\\lib\\site-packages (from tb-nightly->-r requirements.txt (line 15)) (3.5)\n",
      "Requirement already satisfied: protobuf>=3.19.6 in c:\\miniconda3\\envs\\szr310\\lib\\site-packages (from tb-nightly->-r requirements.txt (line 15)) (4.24.4)\n",
      "Requirement already satisfied: six>1.9 in c:\\miniconda3\\envs\\szr310\\lib\\site-packages (from tb-nightly->-r requirements.txt (line 15)) (1.16.0)\n",
      "Requirement already satisfied: tensorboard-data-server<0.8.0,>=0.7.0 in c:\\miniconda3\\envs\\szr310\\lib\\site-packages (from tb-nightly->-r requirements.txt (line 15)) (0.7.2)\n",
      "Requirement already satisfied: werkzeug>=1.0.1 in c:\\miniconda3\\envs\\szr310\\lib\\site-packages (from tb-nightly->-r requirements.txt (line 15)) (3.0.1)\n",
      "Requirement already satisfied: importlib-metadata>=6.6.0 in c:\\miniconda3\\envs\\szr310\\lib\\site-packages (from yapf->-r requirements.txt (line 16)) (6.8.0)\n",
      "Requirement already satisfied: platformdirs>=3.5.1 in c:\\miniconda3\\envs\\szr310\\lib\\site-packages (from yapf->-r requirements.txt (line 16)) (3.10.0)\n",
      "Requirement already satisfied: tomli>=2.0.1 in c:\\miniconda3\\envs\\szr310\\lib\\site-packages (from yapf->-r requirements.txt (line 16)) (2.0.1)\n",
      "Collecting gfpgan>=1.3.5 (from realesrgan->-r requirements.txt (line 17))\n",
      "  Downloading https://mirrors.aliyun.com/pypi/packages/80/a2/84bb50a2655fda1e6f35ae57399526051b8a8b96ad730aea82abeaac4de8/gfpgan-1.3.8-py3-none-any.whl (52 kB)\n",
      "     ---------------------------------------- 0.0/52.2 kB ? eta -:--:--\n",
      "     ------- -------------------------------- 10.2/52.2 kB ? eta -:--:--\n",
      "     -------------- ----------------------- 20.5/52.2 kB 330.3 kB/s eta 0:00:01\n",
      "     -------------- ----------------------- 20.5/52.2 kB 330.3 kB/s eta 0:00:01\n",
      "     ----------------------------- -------- 41.0/52.2 kB 217.9 kB/s eta 0:00:01\n",
      "     -------------------------------------- 52.2/52.2 kB 243.8 kB/s eta 0:00:00\n",
      "Requirement already satisfied: cachetools<6.0,>=2.0.0 in c:\\miniconda3\\envs\\szr310\\lib\\site-packages (from google-auth<3,>=1.6.3->tb-nightly->-r requirements.txt (line 15)) (5.3.2)\n",
      "Requirement already satisfied: pyasn1-modules>=0.2.1 in c:\\miniconda3\\envs\\szr310\\lib\\site-packages (from google-auth<3,>=1.6.3->tb-nightly->-r requirements.txt (line 15)) (0.3.0)\n",
      "Requirement already satisfied: rsa<5,>=3.1.4 in c:\\miniconda3\\envs\\szr310\\lib\\site-packages (from google-auth<3,>=1.6.3->tb-nightly->-r requirements.txt (line 15)) (4.9)\n",
      "Requirement already satisfied: requests-oauthlib>=0.7.0 in c:\\miniconda3\\envs\\szr310\\lib\\site-packages (from google-auth-oauthlib<2,>=0.5->tb-nightly->-r requirements.txt (line 15)) (1.3.1)\n",
      "Requirement already satisfied: zipp>=0.5 in c:\\miniconda3\\envs\\szr310\\lib\\site-packages (from importlib-metadata>=6.6.0->yapf->-r requirements.txt (line 16)) (3.17.0)\n",
      "Requirement already satisfied: packaging>=20.0 in c:\\miniconda3\\envs\\szr310\\lib\\site-packages (from pooch>=1.0->librosa==0.10.0->-r requirements.txt (line 1)) (23.1)\n",
      "Requirement already satisfied: charset-normalizer<4,>=2 in c:\\miniconda3\\envs\\szr310\\lib\\site-packages (from requests->torchvision>=>=0.8.2->-r requirements.txt (line 6)) (2.0.4)\n",
      "Requirement already satisfied: idna<4,>=2.5 in c:\\miniconda3\\envs\\szr310\\lib\\site-packages (from requests->torchvision>=>=0.8.2->-r requirements.txt (line 6)) (3.4)\n",
      "Requirement already satisfied: urllib3<3,>=1.21.1 in c:\\miniconda3\\envs\\szr310\\lib\\site-packages (from requests->torchvision>=>=0.8.2->-r requirements.txt (line 6)) (1.26.18)\n",
      "Requirement already satisfied: certifi>=2017.4.17 in c:\\miniconda3\\envs\\szr310\\lib\\site-packages (from requests->torchvision>=>=0.8.2->-r requirements.txt (line 6)) (2023.7.22)\n",
      "Requirement already satisfied: threadpoolctl>=2.0.0 in c:\\miniconda3\\envs\\szr310\\lib\\site-packages (from scikit-learn>=0.20.0->librosa==0.10.0->-r requirements.txt (line 1)) (3.2.0)\n",
      "Requirement already satisfied: cffi>=1.0 in c:\\miniconda3\\envs\\szr310\\lib\\site-packages (from soundfile>=0.12.1->librosa==0.10.0->-r requirements.txt (line 1)) (1.15.1)\n",
      "Requirement already satisfied: MarkupSafe>=2.1.1 in c:\\miniconda3\\envs\\szr310\\lib\\site-packages (from werkzeug>=1.0.1->tb-nightly->-r requirements.txt (line 15)) (2.1.1)\n",
      "Requirement already satisfied: matplotlib in c:\\miniconda3\\envs\\szr310\\lib\\site-packages (from filterpy->facexlib>=0.2.3->-r requirements.txt (line 11)) (3.8.0)\n",
      "Requirement already satisfied: imageio>=2.27 in c:\\miniconda3\\envs\\szr310\\lib\\site-packages (from scikit-image->basicsr>=1.3.4.0->-r requirements.txt (line 10)) (2.31.6)\n",
      "Requirement already satisfied: tifffile>=2022.8.12 in c:\\miniconda3\\envs\\szr310\\lib\\site-packages (from scikit-image->basicsr>=1.3.4.0->-r requirements.txt (line 10)) (2023.9.26)\n",
      "Requirement already satisfied: mpmath>=0.19 in c:\\miniconda3\\envs\\szr310\\lib\\site-packages (from sympy->torch>=1.7->-r requirements.txt (line 5)) (1.3.0)\n",
      "Requirement already satisfied: pycparser in c:\\miniconda3\\envs\\szr310\\lib\\site-packages (from cffi>=1.0->soundfile>=0.12.1->librosa==0.10.0->-r requirements.txt (line 1)) (2.21)\n",
      "Requirement already satisfied: pyasn1<0.6.0,>=0.4.6 in c:\\miniconda3\\envs\\szr310\\lib\\site-packages (from pyasn1-modules>=0.2.1->google-auth<3,>=1.6.3->tb-nightly->-r requirements.txt (line 15)) (0.5.0)\n",
      "Requirement already satisfied: oauthlib>=3.0.0 in c:\\miniconda3\\envs\\szr310\\lib\\site-packages (from requests-oauthlib>=0.7.0->google-auth-oauthlib<2,>=0.5->tb-nightly->-r requirements.txt (line 15)) (3.2.2)\n",
      "Requirement already satisfied: contourpy>=1.0.1 in c:\\miniconda3\\envs\\szr310\\lib\\site-packages (from matplotlib->filterpy->facexlib>=0.2.3->-r requirements.txt (line 11)) (1.1.1)\n",
      "Requirement already satisfied: cycler>=0.10 in c:\\miniconda3\\envs\\szr310\\lib\\site-packages (from matplotlib->filterpy->facexlib>=0.2.3->-r requirements.txt (line 11)) (0.12.1)\n",
      "Requirement already satisfied: fonttools>=4.22.0 in c:\\miniconda3\\envs\\szr310\\lib\\site-packages (from matplotlib->filterpy->facexlib>=0.2.3->-r requirements.txt (line 11)) (4.43.1)\n",
      "Requirement already satisfied: kiwisolver>=1.0.1 in c:\\miniconda3\\envs\\szr310\\lib\\site-packages (from matplotlib->filterpy->facexlib>=0.2.3->-r requirements.txt (line 11)) (1.4.5)\n",
      "Requirement already satisfied: pyparsing>=2.3.1 in c:\\miniconda3\\envs\\szr310\\lib\\site-packages (from matplotlib->filterpy->facexlib>=0.2.3->-r requirements.txt (line 11)) (3.1.1)\n",
      "Requirement already satisfied: python-dateutil>=2.7 in c:\\miniconda3\\envs\\szr310\\lib\\site-packages (from matplotlib->filterpy->facexlib>=0.2.3->-r requirements.txt (line 11)) (2.8.2)\n",
      "Installing collected packages: gfpgan\n",
      "  Attempting uninstall: gfpgan\n",
      "    Found existing installation: gfpgan 1.3.4\n",
      "    Uninstalling gfpgan-1.3.4:\n",
      "      Successfully uninstalled gfpgan-1.3.4\n",
      "Successfully installed gfpgan-1.3.8\n"
     ]
    }
   ],
   "source": [
    "!pip install -r requirements.txt\n"
   ]
  },
  {
   "cell_type": "code",
   "execution_count": 5,
   "metadata": {
    "id": "EqX_2YtkUjRI",
    "ExecuteTime": {
     "end_time": "2023-11-02T18:10:26.439018100Z",
     "start_time": "2023-11-02T18:09:00.168398Z"
    }
   },
   "outputs": [
    {
     "name": "stdout",
     "output_type": "stream",
     "text": [
      "^C\n"
     ]
    }
   ],
   "source": [
    "import os\n",
    "outputPath = basePath+'/outputs'\n",
    "inputAudioPath = basePath + '/inputs/1111.wav'\n",
    "inputVideoPath = basePath + '/inputs/test.mp4'\n",
    "lipSyncedOutputPath = basePath + '/outputs/result.mp4'\n",
    "\n",
    "if not os.path.exists(outputPath):\n",
    "    os.makedirs(outputPath)\n",
    "\n",
    "!cd $wav2lipFolderName && python inference.py \\\n",
    "    --checkpoint_path checkpoints/wav2lip.pth \\\n",
    "    --face {inputVideoPath} \\\n",
    "    --audio {inputAudioPath} \\\n",
    "    --outfile {lipSyncedOutputPath}\n"
   ]
  },
  {
   "cell_type": "code",
   "execution_count": 6,
   "metadata": {
    "id": "PPBew5FGGvP9",
    "ExecuteTime": {
     "end_time": "2023-11-02T18:10:29.293693700Z",
     "start_time": "2023-11-02T18:10:26.460562800Z"
    }
   },
   "outputs": [
    {
     "name": "stdout",
     "output_type": "stream",
     "text": [
      "running develop\n",
      "running egg_info\n",
      "writing gfpgan.egg-info\\PKG-INFO\n",
      "writing dependency_links to gfpgan.egg-info\\dependency_links.txt\n",
      "writing requirements to gfpgan.egg-info\\requires.txt\n",
      "writing top-level names to gfpgan.egg-info\\top_level.txt\n",
      "reading manifest file 'gfpgan.egg-info\\SOURCES.txt'\n",
      "reading manifest template 'MANIFEST.in'\n",
      "adding license file 'LICENSE'\n",
      "writing manifest file 'gfpgan.egg-info\\SOURCES.txt'\n",
      "running build_ext\n",
      "Creating c:\\miniconda3\\envs\\szr310\\lib\\site-packages\\gfpgan.egg-link (link to .)\n",
      "Adding gfpgan 1.3.4 to easy-install.pth file\n"
     ]
    },
    {
     "name": "stderr",
     "output_type": "stream",
     "text": [
      "C:\\Miniconda3\\envs\\szr310\\lib\\site-packages\\setuptools\\__init__.py:84: _DeprecatedInstaller: setuptools.installer and fetch_build_eggs are deprecated.\n",
      "!!\n",
      "\n",
      "        ********************************************************************************\n",
      "        Requirements should be satisfied by a PEP 517 installer.\n",
      "        If you are using pip, you can try `pip install --use-pep517`.\n",
      "        ********************************************************************************\n",
      "\n",
      "!!\n",
      "  dist.fetch_build_eggs(dist.setup_requires)\n",
      "C:\\Miniconda3\\envs\\szr310\\lib\\site-packages\\setuptools\\command\\develop.py:40: EasyInstallDeprecationWarning: easy_install command is deprecated.\n",
      "!!\n",
      "\n",
      "        ********************************************************************************\n",
      "        Please avoid running ``setup.py`` and ``easy_install``.\n",
      "        Instead, use pypa/build, pypa/installer or other\n",
      "        standards-based tools.\n",
      "\n",
      "        See https://github.com/pypa/setuptools/issues/917 for details.\n",
      "        ********************************************************************************\n",
      "\n",
      "!!\n",
      "  easy_install.initialize_options(self)\n",
      "C:\\Miniconda3\\envs\\szr310\\lib\\site-packages\\setuptools\\_distutils\\cmd.py:66: SetuptoolsDeprecationWarning: setup.py install is deprecated.\n",
      "!!\n",
      "\n",
      "        ********************************************************************************\n",
      "        Please avoid running ``setup.py`` directly.\n",
      "        Instead, use pypa/build, pypa/installer or other\n",
      "        standards-based tools.\n",
      "\n",
      "        See https://blog.ganssle.io/articles/2021/10/setup-py-deprecated.html for details.\n",
      "        ********************************************************************************\n",
      "\n",
      "!!\n",
      "  self.initialize_options()\n",
      "warning: no files found matching 'inputs\\*'\n",
      "Traceback (most recent call last):\n",
      "  File \"C:\\Users\\Administrator\\Desktop\\Wav2Lip-GFPGAN\\GFPGAN-master\\setup.py\", line 84, in <module>\n",
      "    setup(\n",
      "  File \"C:\\Miniconda3\\envs\\szr310\\lib\\site-packages\\setuptools\\__init__.py\", line 107, in setup\n",
      "    return distutils.core.setup(**attrs)\n",
      "  File \"C:\\Miniconda3\\envs\\szr310\\lib\\site-packages\\setuptools\\_distutils\\core.py\", line 185, in setup\n",
      "    return run_commands(dist)\n",
      "  File \"C:\\Miniconda3\\envs\\szr310\\lib\\site-packages\\setuptools\\_distutils\\core.py\", line 201, in run_commands\n",
      "    dist.run_commands()\n",
      "  File \"C:\\Miniconda3\\envs\\szr310\\lib\\site-packages\\setuptools\\_distutils\\dist.py\", line 969, in run_commands\n",
      "    self.run_command(cmd)\n",
      "  File \"C:\\Miniconda3\\envs\\szr310\\lib\\site-packages\\setuptools\\dist.py\", line 1234, in run_command\n",
      "    super().run_command(command)\n",
      "  File \"C:\\Miniconda3\\envs\\szr310\\lib\\site-packages\\setuptools\\_distutils\\dist.py\", line 988, in run_command\n",
      "    cmd_obj.run()\n",
      "  File \"C:\\Miniconda3\\envs\\szr310\\lib\\site-packages\\setuptools\\command\\develop.py\", line 34, in run\n",
      "    self.install_for_development()\n",
      "  File \"C:\\Miniconda3\\envs\\szr310\\lib\\site-packages\\setuptools\\command\\develop.py\", line 126, in install_for_development\n",
      "    self.process_distribution(None, self.dist, not self.no_deps)\n",
      "  File \"C:\\Miniconda3\\envs\\szr310\\lib\\site-packages\\setuptools\\command\\easy_install.py\", line 726, in process_distribution\n",
      "    self.update_pth(dist)\n",
      "  File \"C:\\Miniconda3\\envs\\szr310\\lib\\site-packages\\setuptools\\command\\easy_install.py\", line 1235, in update_pth\n",
      "    self.pth_file.save()\n",
      "  File \"C:\\Miniconda3\\envs\\szr310\\lib\\site-packages\\setuptools\\command\\easy_install.py\", line 1642, in save\n",
      "    self.dirty |= last_dirty or self.paths != self._init_paths\n",
      "TypeError: unsupported operand type(s) for |=: 'list' and 'bool'\n"
     ]
    }
   ],
   "source": [
    "!cd $gfpganFolderName && python setup.py develop\n",
    "# !wget https://github.com/TencentARC/GFPGAN/releases/download/v1.3.0/GFPGANv1.3.pth -P {gfpganFolderName}'/experiments/pretrained_models'\n"
   ]
  },
  {
   "cell_type": "code",
   "execution_count": 7,
   "metadata": {
    "id": "X_RNegAcISU2",
    "ExecuteTime": {
     "start_time": "2023-11-02T18:10:29.298728600Z"
    }
   },
   "outputs": [
    {
     "name": "stderr",
     "output_type": "stream",
     "text": [
      "  0%|          | 0/547 [00:00<?, ?it/s]"
     ]
    },
    {
     "name": "stdout",
     "output_type": "stream",
     "text": [
      "FPS:  30.0 Frames:  547\n"
     ]
    },
    {
     "name": "stderr",
     "output_type": "stream",
     "text": [
      "100%|██████████| 547/547 [00:21<00:00, 25.24it/s]\n"
     ]
    }
   ],
   "source": [
    "import cv2\n",
    "from tqdm import tqdm\n",
    "from os import path\n",
    "\n",
    "import os\n",
    "\n",
    "inputVideoPath = outputPath+'/result.mp4'\n",
    "unProcessedFramesFolderPath = outputPath+'/frames'\n",
    "\n",
    "if not os.path.exists(unProcessedFramesFolderPath):\n",
    "    os.makedirs(unProcessedFramesFolderPath)\n",
    "\n",
    "vidcap = cv2.VideoCapture(inputVideoPath)\n",
    "numberOfFrames = int(vidcap.get(cv2.CAP_PROP_FRAME_COUNT))\n",
    "fps = vidcap.get(cv2.CAP_PROP_FPS)\n",
    "print(\"FPS: \", fps, \"Frames: \", numberOfFrames)\n",
    "\n",
    "for frameNumber in tqdm(range(numberOfFrames)):\n",
    "    _, image = vidcap.read()\n",
    "    cv2.imwrite(path.join(unProcessedFramesFolderPath,\n",
    "                str(frameNumber).zfill(4)+'.jpg'), image)"
   ]
  },
  {
   "cell_type": "code",
   "execution_count": 8,
   "metadata": {
    "id": "k6krjfxTJYlu",
    "ExecuteTime": {
     "start_time": "2023-11-02T18:10:51.191434100Z"
    }
   },
   "outputs": [
    {
     "name": "stderr",
     "output_type": "stream",
     "text": [
      "此时不应有 &。\n"
     ]
    }
   ],
   "source": [
    "!cd $gfpganFolderName & & \\\n",
    "    python inference_gfpgan.py - i $unProcessedFramesFolderPath - o $outputPath - v 1.3 - s 2 - -only_center_face - -bg_upsampler None\n"
   ]
  },
  {
   "cell_type": "code",
   "execution_count": 9,
   "metadata": {
    "id": "XibzGPIVJfvP",
    "ExecuteTime": {
     "start_time": "2023-11-02T18:10:51.311921500Z"
    }
   },
   "outputs": [
    {
     "name": "stderr",
     "output_type": "stream",
     "text": [
      "  0%|          | 0/2 [00:00<?, ?it/s]\n",
      "  0%|          | 0/300 [00:00<?, ?it/s]\u001B[A"
     ]
    },
    {
     "name": "stdout",
     "output_type": "stream",
     "text": [
      "processing  0 300\n"
     ]
    },
    {
     "name": "stderr",
     "output_type": "stream",
     "text": [
      "\n",
      "  0%|          | 1/300 [00:00<01:33,  3.19it/s]\u001B[A\n",
      "  1%|          | 2/300 [00:00<01:38,  3.03it/s]\u001B[A\n",
      "  1%|          | 3/300 [00:00<01:25,  3.48it/s]\u001B[A\n",
      "  1%|▏         | 4/300 [00:01<01:15,  3.90it/s]\u001B[A\n",
      "  2%|▏         | 5/300 [00:01<01:06,  4.42it/s]\u001B[A\n",
      "  2%|▏         | 6/300 [00:01<01:03,  4.66it/s]\u001B[A\n",
      "  3%|▎         | 9/300 [00:01<00:47,  6.15it/s]\u001B[A\n",
      "  4%|▎         | 11/300 [00:01<00:37,  7.72it/s]\u001B[A\n",
      "  5%|▍         | 14/300 [00:01<00:29,  9.65it/s]\u001B[A\n",
      "  6%|▌         | 17/300 [00:01<00:23, 11.80it/s]\u001B[A\n",
      "  7%|▋         | 20/300 [00:02<00:19, 14.00it/s]\u001B[A\n",
      "  8%|▊         | 23/300 [00:02<00:18, 15.37it/s]\u001B[A\n",
      "  9%|▊         | 26/300 [00:02<00:16, 16.46it/s]\u001B[A\n",
      " 10%|▉         | 29/300 [00:02<00:15, 17.08it/s]\u001B[A\n",
      " 11%|█         | 32/300 [00:02<00:15, 17.34it/s]\u001B[A\n",
      " 11%|█▏        | 34/300 [00:02<00:17, 15.33it/s]\u001B[A\n",
      " 12%|█▏        | 36/300 [00:02<00:17, 14.99it/s]\u001B[A\n",
      " 13%|█▎        | 38/300 [00:03<00:17, 14.73it/s]\u001B[A\n",
      " 13%|█▎        | 40/300 [00:03<00:18, 14.24it/s]\u001B[A\n",
      " 14%|█▍        | 42/300 [00:03<00:18, 13.62it/s]\u001B[A\n",
      " 15%|█▍        | 44/300 [00:03<00:19, 13.32it/s]\u001B[A\n",
      " 15%|█▌        | 46/300 [00:03<00:21, 11.94it/s]\u001B[A\n",
      " 16%|█▌        | 48/300 [00:03<00:19, 12.66it/s]\u001B[A\n",
      " 17%|█▋        | 50/300 [00:04<00:18, 13.55it/s]\u001B[A\n",
      " 17%|█▋        | 52/300 [00:04<00:17, 14.38it/s]\u001B[A\n",
      " 18%|█▊        | 55/300 [00:04<00:15, 16.03it/s]\u001B[A\n",
      " 19%|█▉        | 58/300 [00:04<00:13, 17.30it/s]\u001B[A\n",
      " 20%|██        | 61/300 [00:04<00:12, 18.98it/s]\u001B[A\n",
      " 21%|██▏       | 64/300 [00:04<00:11, 20.32it/s]\u001B[A\n",
      " 22%|██▏       | 67/300 [00:04<00:11, 21.09it/s]\u001B[A\n",
      " 23%|██▎       | 70/300 [00:04<00:11, 20.49it/s]\u001B[A\n",
      " 24%|██▍       | 73/300 [00:05<00:12, 17.58it/s]\u001B[A\n",
      " 25%|██▌       | 75/300 [00:05<00:14, 15.95it/s]\u001B[A\n",
      " 26%|██▌       | 77/300 [00:05<00:14, 15.21it/s]\u001B[A\n",
      " 26%|██▋       | 79/300 [00:05<00:15, 14.66it/s]\u001B[A\n",
      " 27%|██▋       | 81/300 [00:05<00:15, 14.21it/s]\u001B[A\n",
      " 28%|██▊       | 83/300 [00:05<00:16, 13.29it/s]\u001B[A\n",
      " 28%|██▊       | 85/300 [00:06<00:19, 10.84it/s]\u001B[A\n",
      " 29%|██▉       | 87/300 [00:06<00:20, 10.62it/s]\u001B[A\n",
      " 30%|███       | 90/300 [00:06<00:16, 12.62it/s]\u001B[A\n",
      " 31%|███       | 92/300 [00:06<00:15, 13.76it/s]\u001B[A\n",
      " 31%|███▏      | 94/300 [00:06<00:14, 13.89it/s]\u001B[A\n",
      " 32%|███▏      | 96/300 [00:06<00:14, 14.26it/s]\u001B[A\n",
      " 33%|███▎      | 98/300 [00:07<00:13, 14.44it/s]\u001B[A\n",
      " 33%|███▎      | 100/300 [00:07<00:13, 14.55it/s]\u001B[A\n",
      " 34%|███▍      | 102/300 [00:07<00:13, 14.47it/s]\u001B[A\n",
      " 35%|███▍      | 104/300 [00:07<00:13, 14.55it/s]\u001B[A\n",
      " 35%|███▌      | 106/300 [00:07<00:13, 14.89it/s]\u001B[A\n",
      " 36%|███▌      | 108/300 [00:07<00:12, 14.92it/s]\u001B[A\n",
      " 37%|███▋      | 110/300 [00:07<00:12, 15.09it/s]\u001B[A\n",
      " 37%|███▋      | 112/300 [00:07<00:12, 15.25it/s]\u001B[A\n",
      " 38%|███▊      | 114/300 [00:08<00:12, 15.45it/s]\u001B[A\n",
      " 39%|███▊      | 116/300 [00:08<00:11, 15.68it/s]\u001B[A\n",
      " 39%|███▉      | 118/300 [00:08<00:10, 16.75it/s]\u001B[A\n",
      " 40%|████      | 121/300 [00:08<00:10, 17.61it/s]\u001B[A\n",
      " 41%|████      | 123/300 [00:08<00:12, 13.98it/s]\u001B[A\n",
      " 42%|████▏     | 125/300 [00:08<00:14, 12.21it/s]\u001B[A\n",
      " 43%|████▎     | 128/300 [00:09<00:12, 14.29it/s]\u001B[A\n",
      " 44%|████▎     | 131/300 [00:09<00:10, 16.33it/s]\u001B[A\n",
      " 45%|████▍     | 134/300 [00:09<00:09, 18.15it/s]\u001B[A\n",
      " 46%|████▌     | 137/300 [00:09<00:09, 16.91it/s]\u001B[A\n",
      " 46%|████▋     | 139/300 [00:09<00:10, 15.21it/s]\u001B[A\n",
      " 47%|████▋     | 141/300 [00:09<00:10, 14.53it/s]\u001B[A\n",
      " 48%|████▊     | 144/300 [00:09<00:09, 16.26it/s]\u001B[A\n",
      " 49%|████▉     | 147/300 [00:10<00:08, 18.28it/s]\u001B[A\n",
      " 50%|█████     | 150/300 [00:10<00:08, 18.51it/s]\u001B[A\n",
      " 51%|█████     | 152/300 [00:10<00:08, 17.30it/s]\u001B[A\n",
      " 51%|█████▏    | 154/300 [00:10<00:08, 16.44it/s]\u001B[A\n",
      " 52%|█████▏    | 156/300 [00:10<00:09, 15.66it/s]\u001B[A\n",
      " 53%|█████▎    | 158/300 [00:10<00:09, 15.22it/s]\u001B[A\n",
      " 53%|█████▎    | 160/300 [00:10<00:09, 14.90it/s]\u001B[A\n",
      " 54%|█████▍    | 162/300 [00:11<00:09, 14.96it/s]\u001B[A\n",
      " 55%|█████▍    | 164/300 [00:11<00:08, 15.30it/s]\u001B[A\n",
      " 55%|█████▌    | 166/300 [00:11<00:09, 13.84it/s]\u001B[A\n",
      " 56%|█████▋    | 169/300 [00:11<00:08, 15.25it/s]\u001B[A\n",
      " 57%|█████▋    | 171/300 [00:11<00:08, 15.62it/s]\u001B[A\n",
      " 58%|█████▊    | 173/300 [00:11<00:08, 15.78it/s]\u001B[A\n",
      " 58%|█████▊    | 175/300 [00:11<00:07, 15.85it/s]\u001B[A\n",
      " 59%|█████▉    | 177/300 [00:11<00:07, 15.83it/s]\u001B[A\n",
      " 60%|█████▉    | 179/300 [00:12<00:07, 15.87it/s]\u001B[A\n",
      " 60%|██████    | 181/300 [00:12<00:07, 16.02it/s]\u001B[A\n",
      " 61%|██████    | 183/300 [00:12<00:07, 16.20it/s]\u001B[A\n",
      " 62%|██████▏   | 185/300 [00:12<00:07, 16.20it/s]\u001B[A\n",
      " 62%|██████▏   | 187/300 [00:12<00:06, 16.33it/s]\u001B[A\n",
      " 63%|██████▎   | 189/300 [00:12<00:06, 16.22it/s]\u001B[A\n",
      " 64%|██████▎   | 191/300 [00:12<00:06, 15.75it/s]\u001B[A\n",
      " 64%|██████▍   | 193/300 [00:12<00:06, 16.06it/s]\u001B[A\n",
      " 65%|██████▌   | 195/300 [00:13<00:06, 16.10it/s]\u001B[A\n",
      " 66%|██████▌   | 198/300 [00:13<00:05, 18.31it/s]\u001B[A\n",
      " 67%|██████▋   | 200/300 [00:13<00:06, 16.17it/s]\u001B[A\n",
      " 67%|██████▋   | 202/300 [00:13<00:06, 16.24it/s]\u001B[A\n",
      " 68%|██████▊   | 205/300 [00:13<00:05, 17.92it/s]\u001B[A\n",
      " 69%|██████▉   | 207/300 [00:13<00:05, 17.04it/s]\u001B[A\n",
      " 70%|██████▉   | 209/300 [00:13<00:05, 16.63it/s]\u001B[A\n",
      " 70%|███████   | 211/300 [00:13<00:05, 16.52it/s]\u001B[A\n",
      " 71%|███████   | 213/300 [00:14<00:05, 16.64it/s]\u001B[A\n",
      " 72%|███████▏  | 215/300 [00:14<00:05, 16.49it/s]\u001B[A\n",
      " 72%|███████▏  | 217/300 [00:14<00:05, 16.51it/s]\u001B[A\n",
      " 73%|███████▎  | 219/300 [00:14<00:04, 16.49it/s]\u001B[A\n",
      " 74%|███████▎  | 221/300 [00:14<00:04, 16.40it/s]\u001B[A\n",
      " 74%|███████▍  | 223/300 [00:14<00:04, 16.09it/s]\u001B[A\n",
      " 75%|███████▌  | 225/300 [00:14<00:04, 15.93it/s]\u001B[A\n",
      " 76%|███████▌  | 227/300 [00:14<00:04, 15.98it/s]\u001B[A\n",
      " 76%|███████▋  | 229/300 [00:15<00:04, 16.23it/s]\u001B[A\n",
      " 77%|███████▋  | 231/300 [00:15<00:04, 16.35it/s]\u001B[A\n",
      " 78%|███████▊  | 233/300 [00:15<00:04, 16.33it/s]\u001B[A\n",
      " 78%|███████▊  | 235/300 [00:15<00:04, 15.15it/s]\u001B[A\n",
      " 79%|███████▉  | 238/300 [00:15<00:03, 16.87it/s]\u001B[A\n",
      " 80%|████████  | 240/300 [00:15<00:03, 16.37it/s]\u001B[A\n",
      " 81%|████████  | 242/300 [00:15<00:03, 16.97it/s]\u001B[A\n",
      " 81%|████████▏ | 244/300 [00:15<00:03, 16.95it/s]\u001B[A\n",
      " 82%|████████▏ | 246/300 [00:16<00:03, 17.02it/s]\u001B[A\n",
      " 83%|████████▎ | 248/300 [00:16<00:03, 16.82it/s]\u001B[A\n",
      " 83%|████████▎ | 250/300 [00:16<00:02, 17.16it/s]\u001B[A\n",
      " 84%|████████▍ | 252/300 [00:16<00:02, 17.24it/s]\u001B[A\n",
      " 85%|████████▍ | 254/300 [00:16<00:02, 17.28it/s]\u001B[A\n",
      " 85%|████████▌ | 256/300 [00:16<00:02, 17.27it/s]\u001B[A\n",
      " 86%|████████▌ | 258/300 [00:16<00:02, 16.16it/s]\u001B[A\n",
      " 87%|████████▋ | 260/300 [00:16<00:02, 16.16it/s]\u001B[A\n",
      " 87%|████████▋ | 262/300 [00:17<00:02, 16.45it/s]\u001B[A\n",
      " 88%|████████▊ | 264/300 [00:17<00:02, 16.52it/s]\u001B[A\n",
      " 89%|████████▊ | 266/300 [00:17<00:02, 16.43it/s]\u001B[A\n",
      " 89%|████████▉ | 268/300 [00:17<00:01, 16.19it/s]\u001B[A\n",
      " 90%|█████████ | 270/300 [00:17<00:01, 16.00it/s]\u001B[A\n",
      " 91%|█████████ | 272/300 [00:17<00:01, 15.77it/s]\u001B[A\n",
      " 91%|█████████▏| 274/300 [00:17<00:01, 15.63it/s]\u001B[A\n",
      " 92%|█████████▏| 276/300 [00:17<00:01, 15.68it/s]\u001B[A\n",
      " 93%|█████████▎| 278/300 [00:18<00:01, 15.79it/s]\u001B[A\n",
      " 93%|█████████▎| 280/300 [00:18<00:01, 15.39it/s]\u001B[A\n",
      " 94%|█████████▍| 282/300 [00:18<00:01, 15.25it/s]\u001B[A\n",
      " 95%|█████████▍| 284/300 [00:18<00:01, 15.56it/s]\u001B[A\n",
      " 95%|█████████▌| 286/300 [00:18<00:00, 15.87it/s]\u001B[A\n",
      " 96%|█████████▋| 289/300 [00:18<00:00, 17.52it/s]\u001B[A\n",
      " 97%|█████████▋| 291/300 [00:18<00:00, 14.57it/s]\u001B[A\n",
      " 98%|█████████▊| 293/300 [00:19<00:00, 14.92it/s]\u001B[A\n",
      " 98%|█████████▊| 295/300 [00:19<00:00, 15.32it/s]\u001B[A\n",
      " 99%|█████████▉| 297/300 [00:19<00:00, 15.48it/s]\u001B[A\n",
      "100%|██████████| 300/300 [00:19<00:00, 15.41it/s]\u001B[A\n",
      " 50%|█████     | 1/2 [01:04<01:04, 64.11s/it]\n",
      "  0%|          | 0/247 [00:00<?, ?it/s]\u001B[A\n",
      "  0%|          | 1/247 [00:00<00:28,  8.56it/s]\u001B[A"
     ]
    },
    {
     "name": "stdout",
     "output_type": "stream",
     "text": [
      "processing  300 600\n"
     ]
    },
    {
     "name": "stderr",
     "output_type": "stream",
     "text": [
      "\n",
      "  1%|          | 2/247 [00:00<00:27,  8.87it/s]\u001B[A\n",
      "  2%|▏         | 4/247 [00:00<00:23, 10.41it/s]\u001B[A\n",
      "  3%|▎         | 7/247 [00:00<00:18, 12.83it/s]\u001B[A\n",
      "  4%|▍         | 10/247 [00:00<00:15, 15.32it/s]\u001B[A\n",
      "  5%|▍         | 12/247 [00:00<00:14, 15.86it/s]\u001B[A\n",
      "  6%|▌         | 14/247 [00:00<00:15, 15.12it/s]\u001B[A\n",
      "  6%|▋         | 16/247 [00:00<00:16, 14.19it/s]\u001B[A\n",
      "  7%|▋         | 18/247 [00:01<00:14, 15.34it/s]\u001B[A\n",
      "  9%|▊         | 21/247 [00:01<00:12, 17.66it/s]\u001B[A\n",
      "  9%|▉         | 23/247 [00:01<00:12, 18.03it/s]\u001B[A\n",
      " 10%|█         | 25/247 [00:01<00:12, 17.37it/s]\u001B[A\n",
      " 11%|█         | 27/247 [00:01<00:13, 16.89it/s]\u001B[A\n",
      " 12%|█▏        | 29/247 [00:01<00:13, 16.58it/s]\u001B[A\n",
      " 13%|█▎        | 31/247 [00:01<00:13, 16.42it/s]\u001B[A\n",
      " 13%|█▎        | 33/247 [00:01<00:13, 16.09it/s]\u001B[A\n",
      " 14%|█▍        | 35/247 [00:02<00:12, 16.76it/s]\u001B[A\n",
      " 15%|█▍        | 37/247 [00:02<00:14, 14.51it/s]\u001B[A\n",
      " 16%|█▌        | 39/247 [00:02<00:13, 15.57it/s]\u001B[A\n",
      " 17%|█▋        | 41/247 [00:02<00:12, 16.01it/s]\u001B[A\n",
      " 17%|█▋        | 43/247 [00:02<00:13, 15.58it/s]\u001B[A\n",
      " 18%|█▊        | 45/247 [00:02<00:13, 15.22it/s]\u001B[A\n",
      " 19%|█▉        | 47/247 [00:02<00:13, 14.96it/s]\u001B[A\n",
      " 20%|█▉        | 49/247 [00:02<00:13, 15.09it/s]\u001B[A\n",
      " 21%|██        | 51/247 [00:03<00:12, 15.74it/s]\u001B[A\n",
      " 21%|██▏       | 53/247 [00:03<00:12, 15.90it/s]\u001B[A\n",
      " 22%|██▏       | 55/247 [00:03<00:11, 16.32it/s]\u001B[A\n",
      " 23%|██▎       | 57/247 [00:03<00:11, 16.81it/s]\u001B[A\n",
      " 24%|██▍       | 59/247 [00:03<00:11, 17.01it/s]\u001B[A\n",
      " 25%|██▍       | 61/247 [00:03<00:10, 17.15it/s]\u001B[A\n",
      " 26%|██▌       | 63/247 [00:03<00:10, 17.31it/s]\u001B[A\n",
      " 26%|██▋       | 65/247 [00:03<00:10, 17.47it/s]\u001B[A\n",
      " 28%|██▊       | 68/247 [00:04<00:09, 19.04it/s]\u001B[A\n",
      " 29%|██▊       | 71/247 [00:04<00:09, 19.08it/s]\u001B[A\n",
      " 30%|██▉       | 73/247 [00:04<00:10, 16.44it/s]\u001B[A\n",
      " 31%|███       | 76/247 [00:04<00:09, 18.62it/s]\u001B[A\n",
      " 32%|███▏      | 79/247 [00:04<00:09, 18.38it/s]\u001B[A\n",
      " 33%|███▎      | 81/247 [00:04<00:09, 17.85it/s]\u001B[A\n",
      " 34%|███▎      | 83/247 [00:04<00:09, 17.70it/s]\u001B[A\n",
      " 34%|███▍      | 85/247 [00:04<00:09, 17.52it/s]\u001B[A\n",
      " 35%|███▌      | 87/247 [00:05<00:09, 17.15it/s]\u001B[A\n",
      " 36%|███▌      | 89/247 [00:05<00:09, 17.09it/s]\u001B[A\n",
      " 37%|███▋      | 91/247 [00:05<00:09, 17.07it/s]\u001B[A\n",
      " 38%|███▊      | 93/247 [00:05<00:09, 16.97it/s]\u001B[A\n",
      " 38%|███▊      | 95/247 [00:05<00:08, 16.98it/s]\u001B[A\n",
      " 39%|███▉      | 97/247 [00:05<00:08, 16.84it/s]\u001B[A\n",
      " 40%|████      | 99/247 [00:05<00:09, 16.42it/s]\u001B[A\n",
      " 41%|████      | 101/247 [00:05<00:08, 16.86it/s]\u001B[A\n",
      " 42%|████▏     | 104/247 [00:06<00:07, 18.62it/s]\u001B[A\n",
      " 43%|████▎     | 106/247 [00:06<00:07, 18.25it/s]\u001B[A\n",
      " 44%|████▎     | 108/247 [00:06<00:08, 15.80it/s]\u001B[A\n",
      " 45%|████▍     | 111/247 [00:06<00:07, 17.39it/s]\u001B[A\n",
      " 46%|████▌     | 113/247 [00:06<00:08, 15.12it/s]\u001B[A\n",
      " 47%|████▋     | 115/247 [00:06<00:09, 14.62it/s]\u001B[A\n",
      " 47%|████▋     | 117/247 [00:06<00:08, 14.46it/s]\u001B[A\n",
      " 48%|████▊     | 119/247 [00:07<00:08, 14.61it/s]\u001B[A\n",
      " 49%|████▉     | 121/247 [00:07<00:08, 15.12it/s]\u001B[A\n",
      " 50%|████▉     | 123/247 [00:07<00:08, 15.41it/s]\u001B[A\n",
      " 51%|█████     | 125/247 [00:07<00:07, 15.74it/s]\u001B[A\n",
      " 51%|█████▏    | 127/247 [00:07<00:07, 16.39it/s]\u001B[A\n",
      " 52%|█████▏    | 129/247 [00:07<00:07, 15.33it/s]\u001B[A\n",
      " 53%|█████▎    | 131/247 [00:07<00:07, 15.42it/s]\u001B[A\n",
      " 54%|█████▍    | 133/247 [00:07<00:07, 15.68it/s]\u001B[A\n",
      " 55%|█████▍    | 135/247 [00:08<00:07, 15.96it/s]\u001B[A\n",
      " 55%|█████▌    | 137/247 [00:08<00:06, 15.94it/s]\u001B[A\n",
      " 56%|█████▋    | 139/247 [00:08<00:06, 15.62it/s]\u001B[A\n",
      " 57%|█████▋    | 141/247 [00:08<00:06, 15.79it/s]\u001B[A\n",
      " 58%|█████▊    | 143/247 [00:08<00:06, 16.49it/s]\u001B[A\n",
      " 59%|█████▊    | 145/247 [00:08<00:06, 16.72it/s]\u001B[A\n",
      " 60%|█████▉    | 147/247 [00:08<00:06, 16.47it/s]\u001B[A\n",
      " 60%|██████    | 149/247 [00:08<00:05, 16.61it/s]\u001B[A\n",
      " 61%|██████    | 151/247 [00:09<00:05, 16.71it/s]\u001B[A\n",
      " 62%|██████▏   | 153/247 [00:09<00:05, 17.56it/s]\u001B[A\n",
      " 63%|██████▎   | 155/247 [00:09<00:05, 17.04it/s]\u001B[A\n",
      " 64%|██████▍   | 158/247 [00:09<00:04, 18.54it/s]\u001B[A\n",
      " 65%|██████▌   | 161/247 [00:09<00:04, 18.28it/s]\u001B[A\n",
      " 66%|██████▌   | 163/247 [00:09<00:04, 18.15it/s]\u001B[A\n",
      " 67%|██████▋   | 165/247 [00:09<00:04, 17.45it/s]\u001B[A\n",
      " 68%|██████▊   | 167/247 [00:09<00:04, 16.99it/s]\u001B[A\n",
      " 68%|██████▊   | 169/247 [00:10<00:04, 16.78it/s]\u001B[A\n",
      " 69%|██████▉   | 171/247 [00:10<00:04, 16.75it/s]\u001B[A\n",
      " 70%|███████   | 173/247 [00:10<00:04, 16.54it/s]\u001B[A\n",
      " 71%|███████   | 175/247 [00:10<00:04, 16.13it/s]\u001B[A\n",
      " 72%|███████▏  | 177/247 [00:10<00:04, 16.43it/s]\u001B[A\n",
      " 72%|███████▏  | 179/247 [00:10<00:04, 16.32it/s]\u001B[A\n",
      " 73%|███████▎  | 181/247 [00:10<00:04, 16.28it/s]\u001B[A\n",
      " 74%|███████▍  | 183/247 [00:10<00:04, 15.95it/s]\u001B[A\n",
      " 75%|███████▍  | 185/247 [00:11<00:03, 15.97it/s]\u001B[A\n",
      " 76%|███████▌  | 187/247 [00:11<00:03, 15.98it/s]\u001B[A\n",
      " 77%|███████▋  | 190/247 [00:11<00:03, 17.81it/s]\u001B[A\n",
      " 78%|███████▊  | 193/247 [00:11<00:03, 17.81it/s]\u001B[A\n",
      " 79%|███████▉  | 195/247 [00:11<00:02, 17.81it/s]\u001B[A\n",
      " 80%|████████  | 198/247 [00:11<00:02, 18.76it/s]\u001B[A\n",
      " 81%|████████  | 200/247 [00:11<00:02, 17.58it/s]\u001B[A\n",
      " 82%|████████▏ | 202/247 [00:11<00:02, 16.92it/s]\u001B[A\n",
      " 83%|████████▎ | 205/247 [00:12<00:02, 18.00it/s]\u001B[A\n",
      " 84%|████████▍ | 207/247 [00:12<00:02, 16.86it/s]\u001B[A\n",
      " 85%|████████▍ | 209/247 [00:12<00:02, 16.64it/s]\u001B[A\n",
      " 85%|████████▌ | 211/247 [00:12<00:02, 16.55it/s]\u001B[A\n",
      " 87%|████████▋ | 214/247 [00:12<00:01, 17.14it/s]\u001B[A\n",
      " 87%|████████▋ | 216/247 [00:12<00:01, 16.83it/s]\u001B[A\n",
      " 88%|████████▊ | 218/247 [00:12<00:01, 16.70it/s]\u001B[A\n",
      " 89%|████████▉ | 220/247 [00:12<00:01, 17.45it/s]\u001B[A\n",
      " 90%|████████▉ | 222/247 [00:13<00:01, 16.85it/s]\u001B[A\n",
      " 91%|█████████ | 224/247 [00:13<00:01, 16.52it/s]\u001B[A\n",
      " 92%|█████████▏| 227/247 [00:13<00:01, 17.19it/s]\u001B[A\n",
      " 93%|█████████▎| 229/247 [00:13<00:01, 15.49it/s]\u001B[A\n",
      " 94%|█████████▎| 231/247 [00:13<00:01, 15.38it/s]\u001B[A\n",
      " 95%|█████████▍| 234/247 [00:13<00:00, 16.30it/s]\u001B[A\n",
      " 96%|█████████▌| 236/247 [00:14<00:00, 13.00it/s]\u001B[A\n",
      " 96%|█████████▋| 238/247 [00:14<00:00, 13.60it/s]\u001B[A\n",
      " 97%|█████████▋| 240/247 [00:14<00:00, 14.06it/s]\u001B[A\n",
      " 98%|█████████▊| 242/247 [00:14<00:00, 12.15it/s]\u001B[A\n",
      " 99%|█████████▉| 244/247 [00:14<00:00, 13.58it/s]\u001B[A\n",
      "100%|██████████| 247/247 [00:14<00:00, 16.61it/s]\u001B[A\n",
      "100%|██████████| 2/2 [01:52<00:00, 56.19s/it]\n"
     ]
    }
   ],
   "source": [
    "from tqdm import tqdm\n",
    "import numpy as np\n",
    "import cv2\n",
    "import os\n",
    "restoredFramesPath = outputPath + '/restored_imgs/'\n",
    "processedVideoOutputPath = outputPath\n",
    "\n",
    "dir_list = os.listdir(restoredFramesPath)\n",
    "dir_list.sort()\n",
    "\n",
    "\n",
    "batch = 0\n",
    "batchSize = 300\n",
    "for i in tqdm(range(0, len(dir_list), batchSize)):\n",
    "    img_array = []\n",
    "    start, end = i, i+batchSize\n",
    "    print(\"processing \", start, end)\n",
    "    for filename in tqdm(dir_list[start:end]):\n",
    "        filename = restoredFramesPath+filename\n",
    "        img = cv2.imread(filename)\n",
    "        if img is None:\n",
    "            continue\n",
    "        height, width, layers = img.shape\n",
    "        size = (width, height)\n",
    "        img_array.append(img)\n",
    "\n",
    "    out = cv2.VideoWriter(processedVideoOutputPath+'/batch_' +\n",
    "                          str(batch).zfill(4)+'.avi', cv2.VideoWriter_fourcc(*'DIVX'), 30, size)\n",
    "    batch = batch + 1\n",
    "\n",
    "    for i in range(len(img_array)):\n",
    "        out.write(img_array[i])\n",
    "    out.release()"
   ]
  },
  {
   "cell_type": "code",
   "execution_count": 10,
   "metadata": {
    "id": "jtde28qwpDd6",
    "ExecuteTime": {
     "start_time": "2023-11-02T18:12:43.783235600Z"
    }
   },
   "outputs": [
    {
     "ename": "ModuleNotFoundError",
     "evalue": "No module named 'google.colab'",
     "output_type": "error",
     "traceback": [
      "\u001B[1;31m---------------------------------------------------------------------------\u001B[0m",
      "\u001B[1;31mModuleNotFoundError\u001B[0m                       Traceback (most recent call last)",
      "Cell \u001B[1;32mIn[10], line 1\u001B[0m\n\u001B[1;32m----> 1\u001B[0m \u001B[38;5;28;01mfrom\u001B[39;00m \u001B[38;5;21;01mgoogle\u001B[39;00m\u001B[38;5;21;01m.\u001B[39;00m\u001B[38;5;21;01mcolab\u001B[39;00m \u001B[38;5;28;01mimport\u001B[39;00m files\n\u001B[0;32m      2\u001B[0m concatTextFilePath \u001B[38;5;241m=\u001B[39m outputPath \u001B[38;5;241m+\u001B[39m \u001B[38;5;124m\"\u001B[39m\u001B[38;5;124m/concat.txt\u001B[39m\u001B[38;5;124m\"\u001B[39m\n\u001B[0;32m      3\u001B[0m concatTextFile \u001B[38;5;241m=\u001B[39m \u001B[38;5;28mopen\u001B[39m(concatTextFilePath, \u001B[38;5;124m\"\u001B[39m\u001B[38;5;124mw\u001B[39m\u001B[38;5;124m\"\u001B[39m)\n",
      "\u001B[1;31mModuleNotFoundError\u001B[0m: No module named 'google.colab'"
     ]
    }
   ],
   "source": [
    "from google.colab import files\n",
    "concatTextFilePath = outputPath + \"/concat.txt\"\n",
    "concatTextFile = open(concatTextFilePath, \"w\")\n",
    "for ips in range(batch):\n",
    "    concatTextFile.write(\"file batch_\" + str(ips).zfill(4) + \".avi\\n\")\n",
    "concatTextFile.close()\n",
    "\n",
    "concatedVideoOutputPath = outputPath + \"/concated_output.avi\"\n",
    "!ffmpeg - y - f concat - i {concatTextFilePath} - c copy {concatedVideoOutputPath}\n",
    "\n",
    "finalProcessedOuputVideo = processedVideoOutputPath+'/final_with_audio.avi'\n",
    "!ffmpeg - y - i {concatedVideoOutputPath} - i {inputAudioPath} - map 0 - map 1: a - c: v copy - shortest {finalProcessedOuputVideo}\n",
    "\n",
    "files.download(finalProcessedOuputVideo)\n"
   ]
  }
 ],
 "metadata": {
  "accelerator": "GPU",
  "colab": {
   "collapsed_sections": [],
   "name": "Wav2Lip.ipynb",
   "provenance": []
  },
  "gpuClass": "standard",
  "kernelspec": {
   "name": "python3",
   "language": "python",
   "display_name": "Python 3 (ipykernel)"
  },
  "language_info": {
   "codemirror_mode": {
    "name": "ipython",
    "version": 3
   },
   "file_extension": ".py",
   "mimetype": "text/x-python",
   "name": "python",
   "nbconvert_exporter": "python",
   "pygments_lexer": "ipython3",
   "version": "3.10.13"
  }
 },
 "nbformat": 4,
 "nbformat_minor": 0
}
